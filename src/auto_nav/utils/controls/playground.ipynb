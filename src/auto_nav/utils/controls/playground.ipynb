{
 "cells": [
  {
   "cell_type": "code",
   "execution_count": 3,
   "id": "9b17add3",
   "metadata": {},
   "outputs": [],
   "source": [
    "# Basic Imports\n",
    "import numpy as np"
   ]
  },
  {
   "cell_type": "code",
   "execution_count": 2,
   "id": "14676f30",
   "metadata": {},
   "outputs": [],
   "source": [
    "# Reference: https://ieeexplore.ieee.org/document/5980409\n",
    "# Convention: WRB = WRC * CRB (means body is first rotated via pitch and roll, then rotated via yaw into world frame)\n",
    "\n",
    "# Angular velocity of body frame in world frame where p q r are the angular velocities in the body frame and xb yb zb are the body frame axes (3D unit vectors).\n",
    "# p, q, r is roll, pitch, yaw respectively.\n",
    "def body_angular_velocity_to_world(p, q, r, xb, yb, zb):\n",
    "    return np.array([\n",
    "        p * xb + q * yb + r * zb,\n",
    "        p * yb + q * zb - r * xb,\n",
    "        p * zb - q * xb + r * yb\n",
    "    ]).T\n",
    "\n"
   ]
  },
  {
   "cell_type": "code",
   "execution_count": 1,
   "id": "aca13ce7",
   "metadata": {},
   "outputs": [],
   "source": [
    "# Each rotor has an angular speed wi and produces a force Fi and a moment Mi.\n",
    "# Force is in the direction of the rotor axis and is perpendicular to the plane of rotation, while moment is in the plane of rotation.\n",
    "\n",
    "# The force Fi is given by:\n",
    "# Fi = Fk * wi^2\n",
    "# where Fk is a constant.\n",
    "\n",
    "# The moment Mi is given by:\n",
    "# Mi = Mk * wi^2\n",
    "# where Mk is a constant.\n",
    "\n",
    "def rotor_force(wi, Fk):\n",
    "    return Fk * wi**2\n",
    "def rotor_moment(wi, Mk):\n",
    "    return Mk * wi**2\n",
    "\n",
    "# Given motor dynamics are comparatively fast, we can assume they are instantaneous. This means we can turn the control inputs into forces and moments.\n",
    "# u1 is the net body force, u2 is the roll moment, u3 is the pitch moment, and u4 is the yaw moment.\n",
    "# L is the distance from the center of rotation to the vehicle center.\n",
    "\n",
    "# The net body force is given by:\n",
    "    # u1 = F1 + F2 + F3 + F4\n",
    "# The roll moment is given by:\n",
    "    # u2 = F2*L - F4*L = L*(F2 - F4)\n",
    "# The pitch moment is given by:\n",
    "    # u3 = F3*L - F1*L = L*(F3 - F1)\n",
    "# The yaw moment is given by:\n",
    "    # u4 = M1 - M2 + M3 - M4\n",
    "\n",
    "# Therefore, as a matrix, separating out the angular velocities, we can write:\n",
    "def rotor_forces_moments(w1, w2, w3, w4, L, Fk, Mk):\n",
    "    motors = np.array([\n",
    "        [Fk, Fk, Fk, Fk],\n",
    "        [0, Fk*L, 0, -Fk*L],\n",
    "        [-Fk*L, 0, Fk*L, 0],\n",
    "        [Mk, -Mk, Mk, -Mk]\n",
    "    ])\n",
    "    speeds = np.array([w1**2, \n",
    "                       w2**2, \n",
    "                       w3**2, \n",
    "                       w4**2])\n",
    "    forces_moments = motors @ speeds\n",
    "    return forces_moments"
   ]
  },
  {
   "cell_type": "code",
   "execution_count": null,
   "id": "d0cde1aa",
   "metadata": {},
   "outputs": [],
   "source": [
    "# The position of the quadrotor in world frame is given by \"r\".\n",
    "# The acceleration treating the quad as a point mass in world frame is given by:\n",
    "# m * rddot = u1 - mg"
   ]
  }
 ],
 "metadata": {
  "kernelspec": {
   "display_name": "Python 3",
   "language": "python",
   "name": "python3"
  },
  "language_info": {
   "codemirror_mode": {
    "name": "ipython",
    "version": 3
   },
   "file_extension": ".py",
   "mimetype": "text/x-python",
   "name": "python",
   "nbconvert_exporter": "python",
   "pygments_lexer": "ipython3",
   "version": "3.10.12"
  }
 },
 "nbformat": 4,
 "nbformat_minor": 5
}
