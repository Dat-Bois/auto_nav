{
 "cells": [
  {
   "cell_type": "code",
   "execution_count": 3,
   "id": "9b17add3",
   "metadata": {},
   "outputs": [],
   "source": [
    "# Basic Imports\n",
    "import numpy as np"
   ]
  },
  {
   "cell_type": "code",
   "execution_count": 2,
   "id": "14676f30",
   "metadata": {},
   "outputs": [],
   "source": [
    "# Reference: https://ieeexplore.ieee.org/document/5980409\n",
    "# Convention: WRB = WRC * CRB (means body is first rotated via pitch and roll, then rotated via yaw into world frame)\n",
    "\n",
    "# Angular velocity of body frame in world frame where p q r are the angular velocities in the body frame and xb yb zb are the body frame axes (3D unit vectors).\n",
    "# p, q, r is roll, pitch, yaw respectively.\n",
    "def body_angular_velocity_to_world(p, q, r, xb, yb, zb):\n",
    "    return np.array([\n",
    "        p * xb + q * yb + r * zb,\n",
    "        p * yb + q * zb - r * xb,\n",
    "        p * zb - q * xb + r * yb\n",
    "    ]).T\n",
    "\n"
   ]
  },
  {
   "cell_type": "code",
   "execution_count": 1,
   "id": "aca13ce7",
   "metadata": {},
   "outputs": [],
   "source": [
    "# Each rotor has an angular speed wi and produces a force Fi and a moment Mi.\n",
    "# Force is in the direction of the rotor axis and is perpendicular to the plane of rotation, while moment is in the plane of rotation.\n",
    "\n",
    "# The force Fi is given by:\n",
    "# Fi = Fk * wi^2\n",
    "# where Fk is a constant.\n",
    "\n",
    "# The moment Mi is given by:\n",
    "# Mi = Mk * wi^2\n",
    "# where Mk is a constant.\n",
    "\n",
    "def rotor_force(wi, Fk):\n",
    "    return Fk * wi**2\n",
    "def rotor_moment(wi, Mk):\n",
    "    return Mk * wi**2\n",
    "\n",
    "# Given motor dynamics are comparatively fast, we can assume they are instantaneous. This means we can turn the control inputs into forces and moments.\n",
    "# u1 is the net body force, u2 is the roll moment, u3 is the pitch moment, and u4 is the yaw moment.\n",
    "# L is the distance from the center of rotation to the vehicle center.\n",
    "\n",
    "# The net body force is given by:\n",
    "    # u1 = F1 + F2 + F3 + F4\n",
    "# The roll moment is given by:\n",
    "    # u2 = F2*L - F4*L = L*(F2 - F4)\n",
    "# The pitch moment is given by:\n",
    "    # u3 = F3*L - F1*L = L*(F3 - F1)\n",
    "# The yaw moment is given by:\n",
    "    # u4 = M1 - M2 + M3 - M4\n",
    "\n",
    "# Therefore, as a matrix, separating out the angular velocities, we can write:\n",
    "def rotor_forces_moments(w1, w2, w3, w4, L, Fk, Mk):\n",
    "    motors = np.array([\n",
    "        [Fk, Fk, Fk, Fk],\n",
    "        [0, Fk*L, 0, -Fk*L],\n",
    "        [-Fk*L, 0, Fk*L, 0],\n",
    "        [Mk, -Mk, Mk, -Mk]\n",
    "    ])\n",
    "    speeds = np.array([w1**2, \n",
    "                       w2**2, \n",
    "                       w3**2, \n",
    "                       w4**2])\n",
    "    forces_moments = motors @ speeds\n",
    "    return forces_moments"
   ]
  },
  {
   "cell_type": "code",
   "execution_count": null,
   "id": "d0cde1aa",
   "metadata": {},
   "outputs": [],
   "source": [
    "# The position of the quadrotor in world frame is given by \"r\".\n",
    "# The acceleration treating the quad as a point mass in world frame is given by:\n",
    "# m * rddot = -mg + u1\n",
    "# where mg is in world frame and u1 is the net body force in the Z direction of the quadrotor in world frame.\n",
    "# You can imagine a tilted plane as the quadrotor with the z axis pointing up. After applying the rotation matrix, it becomes a 3d vector in world frame.\n",
    "\n",
    "def quad_acceleration(u1 : np.ndarray, m, g):\n",
    "    # assumes u1 is in world frame already\n",
    "    accel = -m * g + u1\n",
    "    return accel / m"
   ]
  },
  {
   "cell_type": "code",
   "execution_count": null,
   "id": "43fcdbf3",
   "metadata": {},
   "outputs": [],
   "source": [
    "# Angular acceleration is a bit more complicated.\n",
    "# It follows the standard rigid body dynamics equations\n",
    "#   I * omega_dot = -omega x (I * omega) + M\n",
    "# where I is the inertia matrix, omega is the angular velocity, and M is the moment.\n",
    "# NOTE: Luckily, this controller gets away without using the inertial matrix\n",
    "#   since none of the equations depend on angular acceleration.\n",
    "# The inertia matrix is given by:\n",
    "#   I = diag(Ixx, Iyy, Izz)\n",
    "# The angular velocity is given by:\n",
    "#   omega = [p, q, r]\n",
    "# The moment is given by:\n",
    "#   M = [u2, u3, u4]\n",
    "\n",
    "# Therefore, the angular acceleration is given by:\n",
    "#   omega_dot = I^-1 * (-omega x (I * omega) + M)\n",
    "# where I^-1 is the inverse of the inertia matrix.\n",
    "# The angular velocity is given by:\n",
    "#   omega = [p, q, r]\n",
    "# The moment is given by:\n",
    "#   M = [u2, u3, u4]\n",
    "# The inertia matrix is given by:\n",
    "#   I = diag(Ixx, Iyy, Izz)"
   ]
  },
  {
   "cell_type": "code",
   "execution_count": null,
   "id": "3ce817bd",
   "metadata": {},
   "outputs": [],
   "source": [
    "# Therefore we can write a state matrix for the quadrotor as:\n",
    "# phi, theta, psi describe how to rotate the quadrotor from world to body frame (in essence, the orientation of the quadrotor in world frame).\n",
    "# p, q, r describe the angular velocity of the quadrotor in body frame.\n",
    "# everything else is in world frame.\n",
    "# x = [x, y, z, phi, theta, psi, x_dot, y_dot, z_dot, p, q, r].T"
   ]
  },
  {
   "cell_type": "code",
   "execution_count": null,
   "id": "675d904c",
   "metadata": {},
   "outputs": [],
   "source": [
    "# Quadrotors are differentially flat (just take this for granted pain in the butt to prove).\n",
    "# Means that the states and the inputs can be written as algebraic functions of four carefully selected flat outputs and their derivatives.\n",
    "# We can define the flat outputs as:\n",
    "#   x = [x, y, z, psi(yaw)]"
   ]
  },
  {
   "cell_type": "code",
   "execution_count": null,
   "id": "ed2dd985",
   "metadata": {},
   "outputs": [],
   "source": [
    "# OK lets start with the control now. The paper uses a PD + feedforward controller.\n",
    "# Given a trajectory defined by the flat outputs where sigma is the flat outputs = [r(t).T, psi(t)]\n",
    "\n",
    "# eP = r - r(t)\n",
    "# eV = rdot - rdot(t)\n",
    "\n",
    "# Essentially ep is position error and ev is velocity error.\n",
    "# Both are in world frame."
   ]
  },
  {
   "cell_type": "code",
   "execution_count": null,
   "id": "fe45a3be",
   "metadata": {},
   "outputs": [],
   "source": [
    "# From this we can then determine the desired force vector first in world frame.\n",
    "# mg is multiplied by the z axis in world frame (unit vector also called E3 [0,0,1]) so the force is in a vector in world frame.\n",
    "# Fdes = -Kp * eP - Kv * eV + m*g*Zw + m*rddot(t)\n",
    "\n",
    "# Kp and Kv are positive definite matrices, they are the proportional and derivative gains respectively. Also Fdes must not be 0.\n",
    "\n",
    "#NOTE: What is a positive definite matrix?\n",
    "# A positive definite matrix is a square matrix that has all positive eignevalues.\n",
    "# This means that matrix M for any non-zero vector x, the following holds:\n",
    "#   x^T * M * x > 0 for all x != 0\n",
    "# Since we want to decouple each axis, we can use a diagonal matrix for Kp and Kv and set the diagonal elements to positive values (which are the gains for each axis).\n",
    "# If the axis's were coupled, we would have to use a full matrix and ensure it is positive definite by checking the eigenvalues."
   ]
  },
  {
   "cell_type": "code",
   "execution_count": null,
   "id": "0ac3d3b9",
   "metadata": {},
   "outputs": [],
   "source": [
    "# Since Fdes is in world frame, we need to determine the component of it that is in the body z-frame.\n",
    "\n",
    "# u1 = Fdes dot Zb\n",
    "\n",
    "# This returns a scalar for the desired force in the body z-frame."
   ]
  },
  {
   "cell_type": "code",
   "execution_count": null,
   "id": "35a80705",
   "metadata": {},
   "outputs": [],
   "source": [
    "# Next we need to determine the next 3 inputs u2, u3, u4.\n",
    "# While U1 is based on the desired force and the component thats already in the right direction,\n",
    "# the next step is to rotate the quadrotor so so that Zb is aligned with the desired Force vector (Fdes)."
   ]
  },
  {
   "cell_type": "code",
   "execution_count": null,
   "id": "5bff771d",
   "metadata": {},
   "outputs": [],
   "source": [
    "# Given that we know the desired yaw angle from the trajectory, we can build the desired rotation matrix from the world frame to the body frame.\n",
    "\n",
    "# First we go to the intermediate frame using psi(traj yaw) and align the x-axis so we have the correct frame reference for the pitch and roll.\n",
    "#   Xc, des = [cos(psi), sin(psi), 0].T\n",
    "# What this does is it aligns the x-axis of the quadrotor with the desired yaw angle in world frame.\n",
    "# We apply yaw first because we are going from World to Body frame (BRW).\n",
    "\n",
    "# To get the unit vector for the desired body z-axis we can simply take the desired force vector and normalize it.\n",
    "# #   Zb_des = Fdes / ||Fdes||\n",
    "# This is in world frame\n",
    "\n",
    "# Then we can take the cross product of Zb and Xc which gives us the orthogonal vector to both Zb and Xc that is Yb.\n",
    "# Note that dividing a vector by its norm/magnitude gives us the unit vector in that direction.\n",
    "# Note that these are all desired (ie Yb_des, Zb_des, Xc_des) and not the actual body frame vectors.\n",
    "#   Yb = Zb x Xc / ||Zb x Xc||\n",
    "\n",
    "# Now that we have Xb and Yb, we can solve for Zb which is the cross product of Xb and Yb.\n",
    "# They are all unit vectors, so we can use the cross product without normalizing them.\n",
    "#   Xb = Yb x Zb\n",
    "\n",
    "# NOTE: A singularity occurs when Zb is parallel to Xc, which means that the quadrotor is in a vertical position and cannot roll or pitch, but also leads to numerical instability.\n",
    "# So when Xc cross Zb is < epsilon, we recompute the frame using a -xB and -yB instead of xB and yB and then see which is closer to the actual current frame.\n",
    "# To check which is closer, we can compute the dot product of the current frame with the desired frame and see which is closer to 1."
   ]
  },
  {
   "cell_type": "code",
   "execution_count": null,
   "id": "41462b2a",
   "metadata": {},
   "outputs": [],
   "source": [
    "# The actual rotation matrix using Xb, Yb, Zb is given by:\n",
    "# R_des = [Xb, Yb, Zb].T\n",
    "def rotation_matrix_from_body_frame(Xb, Yb, Zb):\n",
    "    return np.array([\n",
    "        [Xb[0], Yb[0], Zb[0]],\n",
    "        [Xb[1], Yb[1], Zb[1]],\n",
    "        [Xb[2], Yb[2], Zb[2]]\n",
    "    ])"
   ]
  },
  {
   "cell_type": "code",
   "execution_count": null,
   "id": "60ef6340",
   "metadata": {},
   "outputs": [],
   "source": [
    "# Now that we actually have the rotation matrix, we can compute the desired roll and pitch angles.\n",
    "\n",
    "# First the orientation error is given by:\n",
    "#   Er = 1/2 * (R_des.T * R_current - R_current.T * R_des)V\n",
    "# This provides a skew-symmetric matrix that represents the orientation error.\n",
    "# The V at the end is a vee mapping operator that converts a skew-symmetric matrix into a vector of the form [x, y, z].\n",
    "\n",
    "# NOTE: A matrix is skew-symmetric if its transpose is equal to its negative (A = -A^T). For a 3x3 matrix, \n",
    "# this means that the elements on the diagonal are zero, and the elements above the diagonal are the negative \n",
    "# of the corresponding elements below the diagonal. "
   ]
  },
  {
   "cell_type": "code",
   "execution_count": null,
   "id": "2404f2fc",
   "metadata": {},
   "outputs": [],
   "source": [
    "# The angular velocity error is given by:\n",
    "#   eOmega = omega - omega_des\n",
    "# where omega is the current angular velocity and omega_des is the desired angular velocity."
   ]
  },
  {
   "cell_type": "code",
   "execution_count": null,
   "id": "f81f8c5f",
   "metadata": {},
   "outputs": [],
   "source": [
    "# NOTE: But how do you get the desired angular velocity?\n",
    "# Since all of our math is in world frame: Zb = Wrb @ [0,0,1].T (converting the unit vector in the z direction of the body frame to world frame).\n",
    "\n",
    "# We can start by solving the derivative of the net force vector of the quadrotor based on newtonian mechanics.\n",
    "# Originally, we have:\n",
    "    # m * a = -mg(Zw) + u1(Zb) # where Zw is the unit vector in the z direction of the world frame and Zb is the unit vector in the z direction of the body frame.\n",
    "    # To put Zb into world frame we would use the rotation matrix R from body to world frame.\n",
    "# Its derivative is:\n",
    "    # m * a_dot = u1_dot(Zb) + omega x u1(Zb)\n",
    "\n",
    "\n",
    "# We can now do some quirky math with this to change its form. If we take the dot product of the above equation with Zb, we can isolate u1_dot.\n",
    "    # Zb dot m*a_dot = Zb dot (u1_dot(Zb) + omega x u1(Zb))\n",
    "    # Zb dot m*a_dot = 1*U1dot + Zb dot (omega x u1(Zb)) # dot product with itself is 1\n",
    "    # Zb dot m*a_dot = u1_dot + 0 # dot and then cross product with itself is 0\n",
    "\n",
    "# Therefore this gives you the rate of change of thrust purely from derivatives of flat outputs.\n",
    "#   u1_dot  = Zb dot m*a_dot\n",
    "\n",
    "# So now if you replace u1_dot in the original equation, we can write it as:\n",
    "# m*a_dot = (Zb dot m*a_dot) * Zb + omega x u1(Zb)\n",
    "# This eventually then turns into the next equation Hw below.\n",
    "\n",
    "# We can define Hw as the projection of (m / u1) * a_dot onto the Xb - Yb plane and write it in terms of p and q.\n",
    "#   Hw = omega x Zb = (m / u1) * (a_dot - (Zb dot a_dot)Zb)\n",
    "\n",
    "# NOTE: Why is this important?\n",
    "# omega x Zb will always return a vector that is perpendicular to Zb, which means it will always be in the Xb - Yb plane.\n",
    "# Therefore this literally removes the a_dot component in the Zb direction and leaves us with the component perpendicular to Zb, \n",
    "# which is in the Xb - Yb plane (meaning pitch and roll).\n",
    "\n",
    "# Since Hw has both the p and q components, we can grab them by taking the dot product with Yb and Xb respectively.\n",
    "# Specifically, the dot product measures the magnitude of the component of one vector that lies along the direction of another vector. \n",
    "# This allows us to then write it as:\n",
    "#   p = -Hw dot Yb\n",
    "#   q = Hw dot Xb\n",
    "#   r = psi_dot(Zw) dot Zb\n",
    "\n",
    "# RECALL: omega  = p * Xb + q * Yb + r * Zb"
   ]
  },
  {
   "cell_type": "code",
   "execution_count": null,
   "id": "48784546",
   "metadata": {},
   "outputs": [],
   "source": [
    "# Now that we have both the orientation and angular velocity errors, we can compute U2, U3, and U4:\n",
    "\n",
    "#   [u2, u3, u4] = -Kr * Er - Kw * eOmega\n",
    "\n",
    "# Where Kr and Kw are diagonal gain matrices for the orientation and angular velocity errors respectively."
   ]
  },
  {
   "cell_type": "code",
   "execution_count": null,
   "id": "3bd1cfa2",
   "metadata": {},
   "outputs": [],
   "source": [
    "# To get the actual rotor speeds to achieve the inputs, we invert the linearization of the rotor forces and moments:\n",
    "# w^2 = M^-1 * [u1, u2, u3, u4].T\n",
    "# Then clamp so that the speeds are non-negative and take the square root.\n",
    "# if w^2 > 0 then w = sqrt(w^2) else w = 0.\n",
    "\n",
    "# And bam, now you have the rotor speeds to achieve the desired trajectory."
   ]
  }
 ],
 "metadata": {
  "kernelspec": {
   "display_name": "Python 3",
   "language": "python",
   "name": "python3"
  },
  "language_info": {
   "codemirror_mode": {
    "name": "ipython",
    "version": 3
   },
   "file_extension": ".py",
   "mimetype": "text/x-python",
   "name": "python",
   "nbconvert_exporter": "python",
   "pygments_lexer": "ipython3",
   "version": "3.10.12"
  }
 },
 "nbformat": 4,
 "nbformat_minor": 5
}
